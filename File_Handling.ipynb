{
 "cells": [
  {
   "cell_type": "code",
   "execution_count": null,
   "id": "c5306647",
   "metadata": {},
   "outputs": [],
   "source": [
    "# Q.1 Write a Python program to read an entire text file"
   ]
  },
  {
   "cell_type": "code",
   "execution_count": 12,
   "id": "e1ac3c24",
   "metadata": {},
   "outputs": [
    {
     "name": "stdout",
     "output_type": "stream",
     "text": [
      "What is Python language?                                                \n",
      "Python is a widely used high-level, general-purpose, interpreted, dynamic programming language.Its design philosophy emphasizes code readability, and its syntax allows programmers to express concepts in fewer lines of code than possible in \n",
      "languages such as C++ or Java. \n",
      "Python supports multiple programming paradigms, including object-oriented, imperative and functional programming or procedural styles. It features a dynamic type system and automatic memory management and has a large and comprehensive standard library.The best way we learn anything is by practice and exercise questions. We  have started this section for those (beginner to intermediate) who are familiar with Python.\n"
     ]
    }
   ],
   "source": [
    "def file_read(fname):\n",
    "        txt = open(fname)\n",
    "        print(txt.read())\n",
    "\n",
    "file_read('python.txt')"
   ]
  },
  {
   "cell_type": "code",
   "execution_count": 13,
   "id": "0ddf4c3e",
   "metadata": {},
   "outputs": [
    {
     "name": "stdout",
     "output_type": "stream",
     "text": [
      "What is Python language?                                                \n",
      "Python is a widely used high-level, general-purpose, interpreted, dynamic programming language.Its design philosophy emphasizes code readability, and its syntax allows programmers to express concepts in fewer lines of code than possible in \n",
      "languages such as C++ or Java. \n",
      "Python supports multiple programming paradigms, including object-oriented, imperative and functional programming or procedural styles. It features a dynamic type system and automatic memory management and has a large and comprehensive standard library.The best way we learn anything is by practice and exercise questions. We  have started this section for those (beginner to intermediate) who are familiar with Python.\n"
     ]
    }
   ],
   "source": [
    "f = open('python.txt')\n",
    "print(f.read())"
   ]
  },
  {
   "cell_type": "code",
   "execution_count": null,
   "id": "1cbfb2f3",
   "metadata": {},
   "outputs": [],
   "source": [
    "# Q.2 Write a Python program to read the first n lines of a file"
   ]
  },
  {
   "cell_type": "code",
   "execution_count": 14,
   "id": "6fe55d24",
   "metadata": {},
   "outputs": [
    {
     "name": "stdout",
     "output_type": "stream",
     "text": [
      "What is Python language?                                                \n",
      "\n",
      "Python is a widely used high-level, general-purpose, interpreted, dynamic programming language.Its design philosophy emphasizes code readability, and its syntax allows programmers to express concepts in fewer lines of code than possible in \n",
      "\n"
     ]
    }
   ],
   "source": [
    "def file_read_from_head(fname, nlines):\n",
    "        from itertools import islice\n",
    "        with open(fname) as f:\n",
    "                for line in islice(f, nlines):\n",
    "                        print(line)\n",
    "file_read_from_head('python.txt',2)\n"
   ]
  },
  {
   "cell_type": "code",
   "execution_count": 15,
   "id": "5bbc8369",
   "metadata": {},
   "outputs": [
    {
     "name": "stdout",
     "output_type": "stream",
     "text": [
      "\n",
      "\t\tEnter Lines To Read : 2\n",
      "What is Python language?                                                \n",
      "\n",
      "Python is a widely used high-level, general-purpose, interpreted, dynamic programming language.Its design philosophy emphasizes code readability, and its syntax allows programmers to express concepts in fewer lines of code than possible in \n",
      "\n"
     ]
    }
   ],
   "source": [
    "n = int(input(\"\\n\\t\\tEnter Lines To Read : \"))\n",
    "f = open(\"python.txt\",\"r\")\n",
    "for i in range(n):\n",
    "    print(f.readline())"
   ]
  },
  {
   "cell_type": "code",
   "execution_count": null,
   "id": "40019072",
   "metadata": {},
   "outputs": [],
   "source": [
    "# Q.3 Write a Python program to read the last n lines of a file"
   ]
  },
  {
   "cell_type": "code",
   "execution_count": 37,
   "id": "48c76e33",
   "metadata": {},
   "outputs": [
    {
     "name": "stdout",
     "output_type": "stream",
     "text": [
      "Python supports multiple programming paradigms, including object-oriented, imperative and functional programming or procedural styles. It features a dynamic type system and automatic memory management and has a large and comprehensive standard library.The best way we learn anything is by practice and exercise questions. We  have started this section for those (beginner to intermediate) who are familiar with Python.<function LastNlines at 0x7f18a31825f0>\n"
     ]
    }
   ],
   "source": [
    "# Python implementation to\n",
    "# read last N lines of a file\n",
    "\n",
    "# Function to read\n",
    "# last N lines of the file\n",
    "def LastNlines(fname, N):\n",
    "    with open(fname) as file:\n",
    "        for line in (file.readlines() [-N:]):\n",
    "            print(line, end ='')\n",
    "\n",
    "\n",
    "# Driver Code:\n",
    "if __name__ == '__main__':\n",
    "    fname = 'python.txt'\n",
    "    N = 3\n",
    "    try:\n",
    "        LastNlines(fname, 1)\n",
    "    except:\n",
    "        print('File not found')\n",
    "print(LastNlines)"
   ]
  },
  {
   "cell_type": "code",
   "execution_count": 28,
   "id": "dc84ad2b",
   "metadata": {},
   "outputs": [
    {
     "name": "stdout",
     "output_type": "stream",
     "text": [
      "Python supports multiple programming paradigms, including object-oriented, imperative and functional programming or procedural styles. It features a dynamic type system and automatic memory management and has a large and comprehensive standard library.The best way we learn anything is by practice and exercise questions. We  have started this section for those (beginner to intermediate) who are familiar with Python.\n"
     ]
    }
   ],
   "source": [
    "import sys\n",
    "import os\n",
    "def file_read_from_tail(fname,lines):\n",
    "        bufsize = 8192\n",
    "        fsize = os.stat(fname).st_size\n",
    "        iter = 0\n",
    "        with open(fname) as f:\n",
    "                if bufsize > fsize:\n",
    "                        bufsize = fsize-1\n",
    "                        data = []\n",
    "                        while True:\n",
    "                                iter +=1\n",
    "                                f.seek(fsize-bufsize*iter)\n",
    "                                data.extend(f.readlines())\n",
    "                                if len(data) >= lines or f.tell() == 0:\n",
    "                                        print(''.join(data[-lines:]))\n",
    "                                        break\n",
    "\n",
    "file_read_from_tail('python.txt',1)\n"
   ]
  },
  {
   "cell_type": "code",
   "execution_count": null,
   "id": "101ff8b0",
   "metadata": {},
   "outputs": [],
   "source": [
    "# Q.4. Write a Python program that takes a text file as input and returns the number of words of a given text file."
   ]
  },
  {
   "cell_type": "code",
   "execution_count": 44,
   "id": "a27a15ac",
   "metadata": {},
   "outputs": [
    {
     "name": "stdout",
     "output_type": "stream",
     "text": [
      "148\n"
     ]
    }
   ],
   "source": [
    "def count_words(filepath):\n",
    "    with open(filepath) as f:\n",
    "        data = f.read()\n",
    "        data.replace(\",\", \" \")\n",
    "        return len(data.split(\" \"))\n",
    "print(count_words(\"python.txt\"))\n"
   ]
  },
  {
   "cell_type": "code",
   "execution_count": 54,
   "id": "ea36fc65",
   "metadata": {},
   "outputs": [
    {
     "name": "stdout",
     "output_type": "stream",
     "text": [
      "Entre file name: python.txt\n",
      "{'What': 1, 'is': 3, 'Python': 3, 'language?': 1, 'a': 3, 'widely': 1, 'used': 1, 'high-level,': 1, 'general-purpose,': 1, 'interpreted,': 1, 'dynamic': 2, 'programming': 3, 'language.Its': 1, 'design': 1, 'philosophy': 1, 'emphasizes': 1, 'code': 2, 'readability,': 1, 'and': 6, 'its': 1, 'syntax': 1, 'allows': 1, 'programmers': 1, 'to': 2, 'express': 1, 'concepts': 1, 'in': 2, 'fewer': 1, 'lines': 1, 'of': 1, 'than': 1, 'possible': 1, 'languages': 1, 'such': 1, 'as': 1, 'C++': 1, 'or': 2, 'Java.': 1, 'supports': 1, 'multiple': 1, 'paradigms,': 1, 'including': 1, 'object-oriented,': 1, 'imperative': 1, 'functional': 1, 'procedural': 1, 'styles.': 1, 'It': 1, 'features': 1, 'type': 1, 'system': 1, 'automatic': 1, 'memory': 1, 'management': 1, 'has': 1, 'large': 1, 'comprehensive': 1, 'standard': 1, 'library.The': 1, 'best': 1, 'way': 1, 'we': 1, 'learn': 1, 'anything': 1, 'by': 1, 'practice': 1, 'exercise': 1, 'questions.': 1, 'We': 1, 'have': 1, 'started': 1, 'this': 1, 'section': 1, 'for': 1, 'those': 1, '(beginner': 1, 'intermediate)': 1, 'who': 1, 'are': 1, 'familiar': 1, 'with': 1, 'Python.': 1} and 6\n"
     ]
    }
   ],
   "source": [
    "name = input('Entre file name: ')\n",
    "handle = open(name)\n",
    "\n",
    "counts = dict()\n",
    "for line in handle:\n",
    "    words = line.split()\n",
    "    for word in words:\n",
    "        counts[word] = counts.get(word,0) +1\n",
    "#print(counts)\n",
    "        \n",
    "bigcount = None \n",
    "bigword = None \n",
    "for word,count in counts.items():\n",
    "    if bigcount is None or count > bigcount:\n",
    "        bigword = word\n",
    "        bigcount = count\n",
    "      \n",
    "print(counts,bigword, bigcount)"
   ]
  },
  {
   "cell_type": "code",
   "execution_count": null,
   "id": "bf6326b2",
   "metadata": {},
   "outputs": [],
   "source": []
  }
 ],
 "metadata": {
  "kernelspec": {
   "display_name": "Python 3 (ipykernel)",
   "language": "python",
   "name": "python3"
  },
  "language_info": {
   "codemirror_mode": {
    "name": "ipython",
    "version": 3
   },
   "file_extension": ".py",
   "mimetype": "text/x-python",
   "name": "python",
   "nbconvert_exporter": "python",
   "pygments_lexer": "ipython3",
   "version": "3.10.4"
  }
 },
 "nbformat": 4,
 "nbformat_minor": 5
}
