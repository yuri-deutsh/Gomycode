{
 "cells": [
  {
   "cell_type": "code",
   "execution_count": 4,
   "id": "949e2888",
   "metadata": {},
   "outputs": [],
   "source": [
    "# Import the Tkinter module by writing import tkinter as tk at the beginning of your code.\n",
    "# Define a function named fahrenheit_to_celsius() that will be called when the conversion button is clicked. This function should convert the entered temperature from Fahrenheit to Celsius and display the result in the label.\n",
    "# Create a Tkinter window by writing window = tk.Tk(). Set the title of the window to \"Temperature Converter\" by writing window.title(\"Temperature Converter\").\n",
    "# Set the window to a fixed size by writing window.resizable(width=False, height=False).\n",
    "# Create a frame to hold the Fahrenheit entry widget and label. Write frm_entry = tk.Frame(master=window) to create the frame.\n",
    "# Create an entry widget to accept the temperature in Fahrenheit. Write ent_temperature = tk.Entry(master=frm_entry, width=10) to create the entry widget.\n",
    "# Create a label widget to display the degree symbol and the text \"F\". Write lbl_temp = tk.Label(master=frm_entry, text=\"\\N{DEGREE FAHRENHEIT}\") to create the label widget.\n",
    "# Use the grid() geometry manager to arrange the entry and label widgets in the frame. Write ent_temperature.grid(row=0, column=0, sticky=\"e\") and lbl_temp.grid(row=0, column=1, sticky=\"w\") to arrange the widgets.\n",
    "# Create a button widget to initiate the conversion process. Write btn_convert = tk.Button(master=window, text=\"\\N{RIGHTWARDS BLACK ARROW}\", command=fahrenheit_to_celsius) to create the button widget.\n",
    "# Create a label widget to display the result of the conversion in Celsius. Write lbl_result = tk.Label(master=window, text=\"\\N{DEGREE CELSIUS}\") to create the label widget.\n",
    "# Use the grid() geometry manager to arrange the frame, button, and result label widgets. Write frm_entry.grid(row=0, column=0, padx=10), btn_convert.grid(row=0, column=1, pady=10), and lbl_result.grid(row=0, column=2, padx=10) to arrange the widgets.\n",
    "# Call the mainloop() method of the window object to start the application.\n",
    "\n",
    "import tkinter as tk\n",
    "\n",
    "def fahrenheit_to_celsius():\n",
    "    fahrenheit = ent_temperature.get()\n",
    "    celsius = (5/9) * (float(fahrenheit) - 32)\n",
    "    lbl_result[\"text\"] = f\"{round(celsius, 2)} \\N{DEGREE CELSIUS}\"\n",
    "\n",
    "window = tk.Tk()\n",
    "window.title(\"Temperature Converter\")\n",
    "window.resizable(width=False, height=False)\n",
    "\n",
    "frm_entry = tk.Frame(master=window)\n",
    "ent_temperature = tk.Entry(master=frm_entry, width=10)\n",
    "lbl_temp = tk.Label(master=frm_entry, text=\"\\N{DEGREE FAHRENHEIT}\")\n",
    "ent_temperature.grid(row=0, column=0, sticky=\"e\")\n",
    "lbl_temp.grid(row=0, column=1, sticky=\"w\")\n",
    "\n",
    "btn_convert = tk.Button(\n",
    "    master=window,\n",
    "    text=\"\\N{RIGHTWARDS BLACK ARROW}\",\n",
    "    command=fahrenheit_to_celsius\n",
    ")\n",
    "\n",
    "lbl_result = tk.Label(master=window, text=\"\\N{DEGREE CELSIUS}\")\n",
    "frm_entry.grid(row=0, column=0, padx=10)\n",
    "btn_convert.grid(row=0, column=1, pady=10)\n",
    "lbl_result.grid(row=0, column=2, padx=10)\n",
    "\n",
    "window.mainloop()\n"
   ]
  },
  {
   "cell_type": "code",
   "execution_count": null,
   "id": "22a53bb2",
   "metadata": {},
   "outputs": [],
   "source": []
  }
 ],
 "metadata": {
  "kernelspec": {
   "display_name": "Python 3 (ipykernel)",
   "language": "python",
   "name": "python3"
  },
  "language_info": {
   "codemirror_mode": {
    "name": "ipython",
    "version": 3
   },
   "file_extension": ".py",
   "mimetype": "text/x-python",
   "name": "python",
   "nbconvert_exporter": "python",
   "pygments_lexer": "ipython3",
   "version": "3.10.6"
  }
 },
 "nbformat": 4,
 "nbformat_minor": 5
}
