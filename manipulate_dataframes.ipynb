{
 "cells": [
  {
   "cell_type": "code",
   "execution_count": null,
   "id": "f4ea319a",
   "metadata": {},
   "outputs": [],
   "source": [
    "\"\"\"Objective\n",
    "\n",
    "Write a Pandas program to create and display a DataFrame from the following dictionary data with index labels.\n",
    "\n",
    "exam_data = {'name': ['Anastasia', 'Dima', 'Katherine', 'James', 'Emily', 'Michael', 'Matthew', 'Laura', 'Kevin', 'Jonas'],\n",
    "\n",
    "'score': [12.5, 9, 16.5, np.nan, 9, 20, 14.5, np.nan, 8, 19],\n",
    "\n",
    "'attempts': [1, 3, 2, 3, 2, 3, 1, 1, 2, 1],\n",
    "\n",
    "'qualify': ['yes', 'no', 'yes', 'no', 'no', 'yes', 'yes', 'no', 'no', 'yes']}\n",
    "\n",
    "labels = ['a', 'b', 'c', 'd', 'e', 'f', 'g', 'h', 'i', 'j']\n",
    "Instructions\n",
    "\n",
    "    Print the three first rows using the head() method.\n",
    "    Delete rows with Nan values.\n",
    "    Extract the 'name' and 'score' columns from the DataFrame.\n",
    "    Write a Pandas program to append a new row 'k' to the DataFrame with these values (name: \"Suresh\", score: 15.5, attempts: 1, qualify: \"yes\").\n",
    "    Write a Pandas program to delete the 'attempts' column from the DataFrame.\n",
    "    Add a new column \"Success\": if the score is higher than 10 we will have 1, else we will have 0.\n",
    "    After executing the final DataFrame, export it into a CSV file named \"my_data\".\n",
    "\n",
    "Time to practice, take your time!\n",
    "\"\"\""
   ]
  },
  {
   "cell_type": "code",
   "execution_count": 7,
   "id": "b2253066",
   "metadata": {},
   "outputs": [],
   "source": [
    "# Question : 1 : Print the three first rows using the head() method :\n",
    "import pandas as pd\n",
    "import numpy as np\n",
    "\n",
    "exam_data  = {'name': ['Anastasia', 'Dima', 'Katherine', 'James', 'Emily', 'Michael', 'Matthew', 'Laura', 'Kevin', 'Jonas'],\n",
    "        'score': [12.5, 9, 16.5, np.nan, 9, 20, 14.5, np.nan, 8, 19],\n",
    "        'attempts': [1, 3, 2, 3, 2, 3, 1, 1, 2, 1],\n",
    "        'qualify': ['yes', 'no', 'yes', 'no', 'no', 'yes', 'yes', 'no', 'no', 'yes']}\n",
    "labels = ['a', 'b', 'c', 'd', 'e', 'f', 'g', 'h', 'i', 'j']\n",
    "\n",
    "df = pd.DataFrame(exam_data , index=labels)"
   ]
  },
  {
   "cell_type": "code",
   "execution_count": 8,
   "id": "4ed00a71",
   "metadata": {},
   "outputs": [],
   "source": [
    "dfN = df.copy()"
   ]
  },
  {
   "cell_type": "code",
   "execution_count": 8,
   "id": "6b6d775e",
   "metadata": {},
   "outputs": [
    {
     "name": "stdout",
     "output_type": "stream",
     "text": [
      "First three rows of the data frame:\n",
      "        name  score  attempts qualify\n",
      "a  Anastasia   12.5         1     yes\n",
      "b       Dima    9.0         3      no\n",
      "c  Katherine   16.5         2     yes\n"
     ]
    }
   ],
   "source": [
    "print(\"First three rows of the data frame:\")\n",
    "print(df.head(3))"
   ]
  },
  {
   "cell_type": "code",
   "execution_count": 10,
   "id": "c9b3c200",
   "metadata": {
    "scrolled": true
   },
   "outputs": [
    {
     "name": "stdout",
     "output_type": "stream",
     "text": [
      "First three rows of the data frame:\n",
      "        name  score  attempts qualify\n",
      "a  Anastasia   12.5         1     yes\n",
      "b       Dima    9.0         3      no\n",
      "c  Katherine   16.5         2     yes\n"
     ]
    }
   ],
   "source": [
    "print(\"First three rows of the data frame:\")\n",
    "print(df.iloc[:3])"
   ]
  },
  {
   "cell_type": "code",
   "execution_count": 11,
   "id": "d3144150",
   "metadata": {},
   "outputs": [
    {
     "name": "stdout",
     "output_type": "stream",
     "text": [
      "Original rows:\n",
      "        name  score  attempts qualify\n",
      "a  Anastasia   12.5         1     yes\n",
      "b       Dima    9.0         3      no\n",
      "c  Katherine   16.5         2     yes\n",
      "d      James    NaN         3      no\n",
      "e      Emily    9.0         2      no\n",
      "f    Michael   20.0         3     yes\n",
      "g    Matthew   14.5         1     yes\n",
      "h      Laura    NaN         1      no\n",
      "i      Kevin    8.0         2      no\n",
      "j      Jonas   19.0         1     yes\n",
      "\n",
      "Delete rows with Nan values \n",
      "        name  score  attempts qualify\n",
      "a  Anastasia   12.5         1     yes\n",
      "b       Dima    9.0         3      no\n",
      "c  Katherine   16.5         2     yes\n",
      "e      Emily    9.0         2      no\n",
      "f    Michael   20.0         3     yes\n",
      "g    Matthew   14.5         1     yes\n",
      "i      Kevin    8.0         2      no\n",
      "j      Jonas   19.0         1     yes\n"
     ]
    }
   ],
   "source": [
    "#Question : 2 : Delete rows with Nan values :\n",
    "print(\"Original rows:\")\n",
    "print(df)\n",
    "print(\"\\nDelete rows with Nan values \")\n",
    "df = df.dropna()\n",
    "print(df)"
   ]
  },
  {
   "cell_type": "code",
   "execution_count": 12,
   "id": "aac5f462",
   "metadata": {},
   "outputs": [
    {
     "name": "stdout",
     "output_type": "stream",
     "text": [
      "Select specific columns:\n",
      "        name  score\n",
      "a  Anastasia   12.5\n",
      "b       Dima    9.0\n",
      "c  Katherine   16.5\n",
      "d      James    NaN\n",
      "e      Emily    9.0\n",
      "f    Michael   20.0\n",
      "g    Matthew   14.5\n",
      "h      Laura    NaN\n",
      "i      Kevin    8.0\n",
      "j      Jonas   19.0\n"
     ]
    }
   ],
   "source": [
    "#Question : 3 : Extract the 'name' and 'score' columns from the DataFrame.\n",
    "df = pd.DataFrame(exam_data , index=labels)\n",
    "print(\"Select specific columns:\")\n",
    "print(df[['name', 'score']])"
   ]
  },
  {
   "cell_type": "code",
   "execution_count": 21,
   "id": "5aa16c01",
   "metadata": {},
   "outputs": [
    {
     "name": "stdout",
     "output_type": "stream",
     "text": [
      "\n",
      "Append a new row:\n",
      "Print all records after insert a new record:\n",
      "        name  score  attempts qualify\n",
      "a  Anastasia   12.5         1     yes\n",
      "b       Dima    9.0         3      no\n",
      "c  Katherine   16.5         2     yes\n",
      "d      James    NaN         3      no\n",
      "e      Emily    9.0         2      no\n",
      "f    Michael   20.0         3     yes\n",
      "g    Matthew   14.5         1     yes\n",
      "h      Laura    NaN         1      no\n",
      "i      Kevin    8.0         2      no\n",
      "j      Jonas   19.0         1     yes\n",
      "k     Suresh   15.5         1     yes\n"
     ]
    }
   ],
   "source": [
    "#Question: 4 : Write a Pandas program to append a new row 'k' to the DataFrame with these values (name: \"Suresh\", score: 15.5, attempts: 1, qualify: \"yes\").\n",
    "print(\"\\nAppend a new row:\")\n",
    "df.loc['k'] = ['Suresh', 15.5, 1, 'yes']\n",
    "print(\"Print all records after insert a new record:\")\n",
    "print(df)"
   ]
  },
  {
   "cell_type": "code",
   "execution_count": 31,
   "id": "aedbd00b",
   "metadata": {},
   "outputs": [
    {
     "name": "stdout",
     "output_type": "stream",
     "text": [
      "        name  score qualify\n",
      "a  Anastasia   12.5     yes\n",
      "b       Dima    9.0      no\n",
      "c  Katherine   16.5     yes\n",
      "d      James    NaN      no\n",
      "e      Emily    9.0      no\n",
      "f    Michael   20.0     yes\n",
      "g    Matthew   14.5     yes\n",
      "h      Laura    NaN      no\n",
      "i      Kevin    8.0      no\n",
      "j      Jonas   19.0     yes\n"
     ]
    }
   ],
   "source": [
    "#Question : 5 : Write a Pandas program to delete the 'attempts' column from the DataFrame :\n",
    "dfN = df.drop(['attempts'], axis=1, inplace=False)\n",
    "print(dfN)"
   ]
  },
  {
   "cell_type": "code",
   "execution_count": 15,
   "id": "202690e4",
   "metadata": {},
   "outputs": [
    {
     "name": "stdout",
     "output_type": "stream",
     "text": [
      "        name  score  attempts qualify Sucess\n",
      "a  Anastasia   12.5         1     yes      1\n",
      "b       Dima    9.0         3      no      0\n",
      "c  Katherine   16.5         2     yes      1\n",
      "d      James    NaN         3      no      0\n",
      "e      Emily    9.0         2      no      0\n",
      "f    Michael   20.0         3     yes      1\n",
      "g    Matthew   14.5         1     yes      1\n",
      "h      Laura    NaN         1      no      0\n",
      "i      Kevin    8.0         2      no      0\n",
      "j      Jonas   19.0         1     yes      1\n"
     ]
    }
   ],
   "source": [
    "# Question : 6 : Add a new column \"Success\": if the score is higher than 10 we will have 1, else we will have 0.\n",
    "df['Sucess'] = df['score'].apply(lambda x: '1' if x>10 else '0')\n",
    "print(df)"
   ]
  },
  {
   "cell_type": "code",
   "execution_count": 24,
   "id": "f951e3fc",
   "metadata": {},
   "outputs": [],
   "source": [
    "df.to_csv('manipulate_dataframes.csv')"
   ]
  },
  {
   "cell_type": "code",
   "execution_count": 27,
   "id": "361fea09",
   "metadata": {},
   "outputs": [
    {
     "name": "stdout",
     "output_type": "stream",
     "text": [
      "   Unnamed: 0.1 Unnamed: 0       name  score  attempts qualify  Sucess\n",
      "0             0          a  Anastasia   12.5         1     yes       1\n",
      "1             1          b       Dima    9.0         3      no       0\n",
      "2             2          c  Katherine   16.5         2     yes       1\n",
      "3             3          d      James    NaN         3      no       0\n",
      "4             4          e      Emily    9.0         2      no       0\n",
      "5             5          f    Michael   20.0         3     yes       1\n",
      "6             6          g    Matthew   14.5         1     yes       1\n",
      "7             7          h      Laura    NaN         1      no       0\n",
      "8             8          i      Kevin    8.0         2      no       0\n",
      "9             9          j      Jonas   19.0         1     yes       1\n"
     ]
    }
   ],
   "source": [
    "df = pd.read_csv('manipulate_dataframes.csv')\n",
    "print(df)"
   ]
  },
  {
   "cell_type": "code",
   "execution_count": null,
   "id": "f508712e",
   "metadata": {},
   "outputs": [],
   "source": []
  }
 ],
 "metadata": {
  "kernelspec": {
   "display_name": "Python 3 (ipykernel)",
   "language": "python",
   "name": "python3"
  },
  "language_info": {
   "codemirror_mode": {
    "name": "ipython",
    "version": 3
   },
   "file_extension": ".py",
   "mimetype": "text/x-python",
   "name": "python",
   "nbconvert_exporter": "python",
   "pygments_lexer": "ipython3",
   "version": "3.10.4"
  }
 },
 "nbformat": 4,
 "nbformat_minor": 5
}
