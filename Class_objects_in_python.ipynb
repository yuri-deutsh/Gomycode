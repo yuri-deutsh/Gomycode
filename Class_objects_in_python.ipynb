{
 "cells": [
  {
   "cell_type": "code",
   "execution_count": 23,
   "id": "9e87ba86-54e1-4ce1-a3d5-0f389f96efe0",
   "metadata": {},
   "outputs": [
    {
     "name": "stdout",
     "output_type": "stream",
     "text": [
      "(1, 2, 3)\n"
     ]
    }
   ],
   "source": [
    "# Question 1:\n",
    "\n",
    "\n",
    "class Point3D(object):\n",
    "    def __init__(self, x, y, z):\n",
    "        self.x = x\n",
    "        self.y = y\n",
    "        self.z = z\n",
    "    def __repr__(self):\n",
    "        return \"(%d, %d, %d)\" % (self.x, self.y, self.z)\n",
    "\n",
    "    my_point = Point3D(1,2,3)\n",
    "\n",
    "print(my_point)"
   ]
  },
  {
   "cell_type": "code",
   "execution_count": 1,
   "id": "f070ec6b-fcb3-42e0-8733-8440ff544662",
   "metadata": {},
   "outputs": [
    {
     "name": "stdout",
     "output_type": "stream",
     "text": [
      "14\n"
     ]
    }
   ],
   "source": [
    "class Rectangle:\n",
    "    def __init__(self, width, length):\n",
    "        self.length = length\n",
    "        self.width = width\n",
    "        \n",
    "    \n",
    "    def calculate_perimeter(self):\n",
    "        \n",
    "        return 2 * (self.width + self.length)\n",
    "    \n",
    "Rectangle_1 = Rectangle(3, 4)\n",
    "\n",
    "print (Rectangle_1.calculate_perimeter())"
   ]
  },
  {
   "cell_type": "code",
   "execution_count": 7,
   "id": "3c00171c-256f-46bc-9e5a-0354c9e7af7f",
   "metadata": {},
   "outputs": [
    {
     "name": "stdin",
     "output_type": "stream",
     "text": [
      "Enter radius of circle:  8\n"
     ]
    },
    {
     "name": "stdout",
     "output_type": "stream",
     "text": [
      "Area of circle: 201.06\n",
      "Perimeter of circle: 50.27\n"
     ]
    }
   ],
   "source": [
    "import math\n",
    "class circle():\n",
    "    def __init__(self,radius):\n",
    "        self.radius=radius\n",
    "    def area(self):\n",
    "        return math.pi*(self.radius**2)\n",
    "    def perimeter(self):\n",
    "        return 2*math.pi*self.radius\n",
    " \n",
    "r=float(input(\"Enter radius of circle: \"))\n",
    "obj=circle(r)\n",
    "print(\"Area of circle:\",round(obj.area(),2))\n",
    "print(\"Perimeter of circle:\",round(obj.perimeter(),2))"
   ]
  },
  {
   "cell_type": "code",
   "execution_count": 3,
   "id": "094b532e-b158-4111-93e8-821e02f99c29",
   "metadata": {},
   "outputs": [
    {
     "name": "stdout",
     "output_type": "stream",
     "text": [
      "200.96\n",
      "50.24\n"
     ]
    }
   ],
   "source": [
    "class Circle():\n",
    "    def __init__(self, r):\n",
    "        self.radius = r\n",
    "\n",
    "    def area(self):\n",
    "        return self.radius**2*3.14\n",
    "    \n",
    "    def perimeter(self):\n",
    "        return 2*self.radius*3.14\n",
    "\n",
    "NewCircle = Circle(8)\n",
    "print(NewCircle.area())\n",
    "print(NewCircle.perimeter())"
   ]
  },
  {
   "cell_type": "code",
   "execution_count": null,
   "id": "06acd8c2-702a-4414-acf9-31b193529230",
   "metadata": {},
   "outputs": [],
   "source": [
    "class Bank:\n",
    "    def __init__(self):\n",
    "        self.total_amount = 0\n",
    "        self.name = ''\n",
    "\n",
    "    def welcome(self):\n",
    "        self.name = input('Welcome to your Bank Account. Please Enter your name : ')\n",
    "\n",
    "    def print_current_balance(self):\n",
    "        print('Your Current balance : {}'.format(self.total_amount))\n",
    "\n",
    "    def deposit(self):\n",
    "        self.total_amount += float(input('Hello {}, please enter amount to deposit : '.format(self.name)))\n",
    "        self.print_current_balance()\n",
    "\n",
    "    def withdraw(self):\n",
    "        amount_to_withdraw = float(input('Enter amount to withdraw : '))\n",
    "\n",
    "        if amount_to_withdraw > self.total_amount:\n",
    "            print('Insufficient Balance !!')\n",
    "        else:\n",
    "            self.total_amount -= amount_to_withdraw\n",
    "\n",
    "        self.print_current_balance()\n",
    "\n",
    "\n",
    "if __name__==\"__main__\":\n",
    "    bank = Bank()\n",
    "    bank.welcome()\n",
    "\n",
    "    while True:\n",
    "        input_value = int(input('Enter 1 to see your balance,\\n2 to deposit\\n3 to withdraw\\n'))\n",
    "\n",
    "        if input_value == 1:\n",
    "            bank.print_current_balance()\n",
    "        elif input_value == 2:\n",
    "            bank.deposit()\n",
    "        elif input_value == 3:\n",
    "            bank.withdraw()\n",
    "        else:\n",
    "            print('Please enter a valid input.')"
   ]
  },
  {
   "cell_type": "code",
   "execution_count": null,
   "id": "86117488-dddc-47fe-9edb-0aaf49973bbc",
   "metadata": {},
   "outputs": [],
   "source": []
  }
 ],
 "metadata": {
  "kernelspec": {
   "display_name": "Python 3 (ipykernel)",
   "language": "python",
   "name": "python3"
  },
  "language_info": {
   "codemirror_mode": {
    "name": "ipython",
    "version": 3
   },
   "file_extension": ".py",
   "mimetype": "text/x-python",
   "name": "python",
   "nbconvert_exporter": "python",
   "pygments_lexer": "ipython3",
   "version": "3.10.4"
  }
 },
 "nbformat": 4,
 "nbformat_minor": 5
}
