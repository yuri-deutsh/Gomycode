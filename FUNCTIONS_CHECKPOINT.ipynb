{
 "cells": [
  {
   "cell_type": "code",
   "execution_count": 27,
   "metadata": {},
   "outputs": [
    {
     "name": "stdout",
     "output_type": "stream",
     "text": [
      "35\n"
     ]
    }
   ],
   "source": [
    "# Question 1 Write a Python function to find the largest (max) of three numbers.\n",
    "# For example, the max of these three numbers (20, 35, 19) is 35.\n",
    "\n",
    "  \n",
    "def maximum(a, b, c):\n",
    "    if (a > b) and (a > c):\n",
    "        largest = a\n",
    "    elif (b > a) and (b > c):\n",
    "        largest = b\n",
    "    else:\n",
    "        largest = c\n",
    "        \n",
    "    return largest\n",
    "\n",
    "a = 20\n",
    "b = 35\n",
    "c = 19\n",
    "\n",
    "print(maximum(a, b, c))\n"
   ]
  },
  {
   "cell_type": "code",
   "execution_count": 29,
   "metadata": {},
   "outputs": [
    {
     "name": "stdout",
     "output_type": "stream",
     "text": [
      "35\n"
     ]
    }
   ],
   "source": [
    "def max_of_three(x, y, w):\n",
    "    if (x > y):\n",
    "        return x\n",
    "    elif (y > x):\n",
    "         return y\n",
    "    else:\n",
    "        return w\n",
    "print(max_of_three(20, 35, 19))"
   ]
  },
  {
   "cell_type": "code",
   "execution_count": 24,
   "metadata": {},
   "outputs": [
    {
     "name": "stdout",
     "output_type": "stream",
     "text": [
      "35\n"
     ]
    }
   ],
   "source": [
    "def maximum(a, b, c):\n",
    "    list = [a, b, c]\n",
    "    return max(list)\n",
    "  \n",
    "# Driven code \n",
    "a = 20\n",
    "b = 35\n",
    "c = 19\n",
    "print(maximum(a, b, c))"
   ]
  },
  {
   "cell_type": "code",
   "execution_count": 5,
   "metadata": {},
   "outputs": [
    {
     "name": "stdout",
     "output_type": "stream",
     "text": [
      "entre your numbre:  40\n",
      "entre your numbre:  10\n"
     ]
    },
    {
     "data": {
      "text/plain": [
       "(50, 30)"
      ]
     },
     "execution_count": 5,
     "metadata": {},
     "output_type": "execute_result"
    }
   ],
   "source": [
    "# Question 2\n",
    "def func(num1, num2):\n",
    "    sum_ = num1+num2\n",
    "    sub_ = num1-num2\n",
    "    return sum_, sub_\n",
    "x = int(input('entre your numbre:  '))\n",
    "y = int(input('entre your numbre:  '))\n",
    "\n",
    "func(x,y)"
   ]
  },
  {
   "cell_type": "code",
   "execution_count": 2,
   "metadata": {},
   "outputs": [
    {
     "name": "stdout",
     "output_type": "stream",
     "text": [
      "[2, 4, 6, 8, 10]\n"
     ]
    }
   ],
   "source": [
    "\n",
    "import numpy as np\n",
    "numbers = [1, 2, 3, 4, 5]\n",
    "array = np.array(numbers) * 2\n",
    "multiplied = list(array)\n",
    "print(multiplied)\n"
   ]
  },
  {
   "cell_type": "code",
   "execution_count": 10,
   "metadata": {},
   "outputs": [
    {
     "name": "stdout",
     "output_type": "stream",
     "text": [
      "gnitset ma I\n"
     ]
    }
   ],
   "source": [
    "def reverse(string):\n",
    "    result = []\n",
    "    for word in string.split()[::-1]:\n",
    "        result.append(word[::-1])\n",
    "    return \" \".join(result)\n",
    "\n",
    "\n",
    "print(reverse(\"I am testing\"))"
   ]
  },
  {
   "cell_type": "code",
   "execution_count": 2,
   "metadata": {},
   "outputs": [
    {
     "name": "stdout",
     "output_type": "stream",
     "text": [
      "45\n",
      "0\n",
      "(20, 945)\n"
     ]
    }
   ],
   "source": [
    "# Question 3:\n",
    "\n",
    "list = (0, 1, 2, 3, 4, 5, 6, 7, 8, 9)\n",
    "\n",
    "def sum_(list):\n",
    "    total = 0\n",
    "    for number in list:\n",
    "            total += number\n",
    "    return total\n",
    "\n",
    "\n",
    "def multiply(list):\n",
    "    total = 1\n",
    "    for number in list:\n",
    "        total = total * number\n",
    "    return total\n",
    "\n",
    "def sum_multi(list):\n",
    "    l1 = []\n",
    "    l2 = [] \n",
    "    for i, val in enumerate(list):\n",
    "        mod = i%2  \n",
    "        if mod == 0:\n",
    "            l1.append(list[i])\n",
    "        else:\n",
    "            l2.append(list[i])\n",
    "    return sum_(l1), multiply(l2)\n",
    "\n",
    "#if __name__ == \"__main__\":\n",
    "print(sum_(list))\n",
    "print(multiply(list))\n",
    "print(sum_multi(list))"
   ]
  },
  {
   "cell_type": "code",
   "execution_count": 4,
   "metadata": {},
   "outputs": [
    {
     "name": "stdin",
     "output_type": "stream",
     "text": [
      " green-red-yellow-black-white\n"
     ]
    },
    {
     "name": "stdout",
     "output_type": "stream",
     "text": [
      "black-green-red-white-yellow\n"
     ]
    }
   ],
   "source": [
    "# Question 4\n",
    "\n",
    "items = [ n for n in input().split('-') ]\n",
    "items.sort()\n",
    "print('-'.join(items))\n"
   ]
  },
  {
   "cell_type": "code",
   "execution_count": 2,
   "metadata": {},
   "outputs": [
    {
     "name": "stdout",
     "output_type": "stream",
     "text": [
      "Provide D: 100,150,180\n",
      "[18, 22, 24]\n"
     ]
    }
   ],
   "source": [
    "# Question 5 :\n",
    "import math\n",
    "\n",
    "numbers = input(\"Provide D: \")\n",
    "numbers = numbers.split(',')\n",
    "\n",
    "result_list = []\n",
    "for D in numbers:\n",
    "    Q = round(math.sqrt(2 * 50 * int(D) / 30))\n",
    "    result_list.append(Q)\n",
    "\n",
    "print(result_list)"
   ]
  },
  {
   "cell_type": "code",
   "execution_count": 3,
   "metadata": {},
   "outputs": [
    {
     "name": "stdout",
     "output_type": "stream",
     "text": [
      "enter the value of D\n",
      "100,150,180\n",
      "output= [18, 22, 24]\n"
     ]
    }
   ],
   "source": [
    "# Y: Logique\n",
    "import math\n",
    "\n",
    "C= 50\n",
    "H = 30\n",
    "Ds = []\n",
    "result =[]\n",
    "Dv=input(\"enter the value of D\\n\")\n",
    "Ds=Dv.split(\",\")\n",
    "Ds = [int(i) for i in Ds]\n",
    "i=0\n",
    "l = len(Ds)\n",
    "while(i<l):\n",
    "    Q = round(math.sqrt((2*C*Ds[i])/H))\n",
    "    result. append(Q)\n",
    "    i+=1\n",
    "print(\"output=\",result)\n"
   ]
  },
  {
   "cell_type": "code",
   "execution_count": null,
   "metadata": {},
   "outputs": [],
   "source": []
  }
 ],
 "metadata": {
  "kernelspec": {
   "display_name": "Python 3 (ipykernel)",
   "language": "python",
   "name": "python3"
  },
  "language_info": {
   "codemirror_mode": {
    "name": "ipython",
    "version": 3
   },
   "file_extension": ".py",
   "mimetype": "text/x-python",
   "name": "python",
   "nbconvert_exporter": "python",
   "pygments_lexer": "ipython3",
   "version": "3.10.4"
  }
 },
 "nbformat": 4,
 "nbformat_minor": 4
}
