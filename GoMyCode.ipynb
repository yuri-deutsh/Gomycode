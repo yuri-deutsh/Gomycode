{
 "cells": [
  {
   "cell_type": "code",
   "execution_count": 29,
   "id": "7777f435-4e7b-4b78-96d5-3a6e8cf924a9",
   "metadata": {},
   "outputs": [
    {
     "name": "stdout",
     "output_type": "stream",
     "text": [
      "2\n",
      "3\n",
      "4\n",
      "5\n",
      "6\n",
      "7\n",
      "8\n",
      "9\n"
     ]
    }
   ],
   "source": [
    "for i in range(2,10):\n",
    "    print(i)"
   ]
  },
  {
   "cell_type": "code",
   "execution_count": null,
   "id": "8deb0ee6-ddf1-4eb6-8229-a966e5df3068",
   "metadata": {},
   "outputs": [],
   "source": [
    "print(\"hello world\")"
   ]
  },
  {
   "cell_type": "code",
   "execution_count": null,
   "id": "3e04a4d9-905c-40d9-920d-2ce7d30447b4",
   "metadata": {},
   "outputs": [],
   "source": [
    "nom = input(\" entre votre nom: \")\n",
    "prenom = input(\"entre votre prenom:)"
   ]
  },
  {
   "cell_type": "code",
   "execution_count": null,
   "id": "709fcb53-91b4-4a4e-b76a-6decb8f2d09f",
   "metadata": {},
   "outputs": [],
   "source": [
    "#Question 2\n",
    "n = int(input(\"entre nombre: \"))\n",
    "somme = 0\n",
    "for i in range(1,n+1,1):\n",
    "    nombre = int(\"5\"*i)\n",
    "    print(nombre)\n",
    "    somme = somme+nombre\n",
    "print(somme)\n",
    "    "
   ]
  },
  {
   "cell_type": "code",
   "execution_count": 24,
   "id": "69a57044-a2a6-49be-bff7-403b46a06a1f",
   "metadata": {
    "tags": []
   },
   "outputs": [
    {
     "name": "stdout",
     "output_type": "stream",
     "text": [
      "2030,2065,2100,2135,2170,2205,2240,2275,2310,2345,2380,2415,2450,2485,2520,2555,2590,2625,2660,2695,2730,2765,2800,2835,2870,2905,2940,2975,3010,3045,3080,3115,3150,3185\n"
     ]
    }
   ],
   "source": []
  },
  {
   "cell_type": "code",
   "execution_count": 27,
   "id": "0a24ce1c-ef7f-4b0e-a6c3-c8603f9944c6",
   "metadata": {},
   "outputs": [
    {
     "name": "stdin",
     "output_type": "stream",
     "text": [
      "Entre a numbre:  8\n"
     ]
    },
    {
     "name": "stdout",
     "output_type": "stream",
     "text": [
      "This is an even number.\n"
     ]
    }
   ],
   "source": [
    "num = int(input(\"Entre a numbre: \"))\n",
    "mod = num % 2\n",
    "if mod > 0:\n",
    "    print(\"This is an odd number.\")\n",
    "else:\n",
    "    print(\"This is an even number.\")\n",
    "        "
   ]
  },
  {
   "cell_type": "code",
   "execution_count": 38,
   "id": "7e043f48-54d5-4453-aef7-a708dfcc87e4",
   "metadata": {},
   "outputs": [
    {
     "name": "stdout",
     "output_type": "stream",
     "text": [
      "2002,2009,2016,2023,2037,2044,2051,2058,2072,2079,2086,2093,2107,2114,2121,2128,2142,2149,2156,2163,2177,2184,2191,2198,2212,2219,2226,2233,2247,2254,2261,2268,2282,2289,2296,2303,2317,2324,2331,2338,2352,2359,2366,2373,2387,2394,2401,2408,2422,2429,2436,2443,2457,2464,2471,2478,2492,2499,2506,2513,2527,2534,2541,2548,2562,2569,2576,2583,2597,2604,2611,2618,2632,2639,2646,2653,2667,2674,2681,2688,2702,2709,2716,2723,2737,2744,2751,2758,2772,2779,2786,2793,2807,2814,2821,2828,2842,2849,2856,2863,2877,2884,2891,2898,2912,2919,2926,2933,2947,2954,2961,2968,2982,2989,2996,3003,3017,3024,3031,3038,3052,3059,3066,3073,3087,3094,3101,3108,3122,3129,3136,3143,3157,3164,3171,3178,3192,3199\n"
     ]
    }
   ],
   "source": [
    "x=[]\n",
    "for i in range(2000, 3200, 1):\n",
    "    if (i%7==0) and (i%5!=0):\n",
    "        x.append(str(i))\n",
    "print(','.join(x))"
   ]
  },
  {
   "cell_type": "code",
   "execution_count": 40,
   "id": "0bc81168-cb78-4258-95ba-3795a9ae688e",
   "metadata": {},
   "outputs": [
    {
     "name": "stdout",
     "output_type": "stream",
     "text": [
      "24\n"
     ]
    }
   ],
   "source": [
    "#commentaire ctl+/\n",
    "\n",
    "n = 4 \n",
    "fact = 1\n",
    "for i in range(n,0,-1):\n",
    "    fact = fact * i\n",
    "print(fact)\n",
    "\n",
    "# 1 interaction ==> fact = 4 , i=4\n",
    "# 2 interaction ==> fact = 3 , i=12\n",
    "# 3 interaction ==> fact = 2 , i=24\n",
    "# 2 interaction ==> fact = 1 , i=24\n"
   ]
  },
  {
   "cell_type": "code",
   "execution_count": 43,
   "id": "68ca77ad-337c-47e0-afb6-4bf51f49dc0b",
   "metadata": {},
   "outputs": [
    {
     "data": {
      "text/plain": [
       "'hello'"
      ]
     },
     "execution_count": 43,
     "metadata": {},
     "output_type": "execute_result"
    }
   ],
   "source": [
    "string = 'hello world'\n",
    "string[0:5]"
   ]
  },
  {
   "cell_type": "code",
   "execution_count": 52,
   "id": "6841f0f1-77ff-45a1-b050-22e99c05e0e5",
   "metadata": {},
   "outputs": [
    {
     "data": {
      "text/plain": [
       "'NabilMkadmi'"
      ]
     },
     "execution_count": 52,
     "metadata": {},
     "output_type": "execute_result"
    }
   ],
   "source": [
    "nom = \"Nabil\"\n",
    "prenom = \"Mkadmi\"\n",
    "nom2prenom = nom+prenom\n",
    "nom2prenom"
   ]
  },
  {
   "cell_type": "code",
   "execution_count": 2,
   "id": "76cd95c5-7f58-46ac-8de3-5af70777e253",
   "metadata": {},
   "outputs": [
    {
     "name": "stdout",
     "output_type": "stream",
     "text": [
      "y This is an even number.\n",
      "a This is an odd number.\n",
      "s This is an even number.\n",
      "s This is an odd number.\n",
      "i This is an even number.\n",
      "r This is an odd number.\n"
     ]
    }
   ],
   "source": [
    "nom = \"yassir\"\n",
    "for indice,lettre in enumerate(nom):\n",
    "    mod = indice%2\n",
    "    if mod > 0 :\n",
    "          print(lettre,\"This is an odd number.\")\n",
    "    else:\n",
    "        print(lettre,\"This is an even number.\")\n"
   ]
  },
  {
   "cell_type": "code",
   "execution_count": null,
   "id": "8b41d8e5-ed46-4902-974d-fca9ddaf9eb0",
   "metadata": {},
   "outputs": [],
   "source": [
    "string = \"hello team\"\n",
    "resultat = \" \" \n",
    "for indice,lettre in enumerate(nom):\n",
    "    mod = indice%2\n",
    "    if mod > 0 :\n",
    "          print(lettre,\"This is an odd number.\")\n",
    "    else:\n",
    "        print(lettre,\"This is an even number.\")"
   ]
  }
 ],
 "metadata": {
  "kernelspec": {
   "display_name": "Python 3 (ipykernel)",
   "language": "python",
   "name": "python3"
  },
  "language_info": {
   "codemirror_mode": {
    "name": "ipython",
    "version": 3
   },
   "file_extension": ".py",
   "mimetype": "text/x-python",
   "name": "python",
   "nbconvert_exporter": "python",
   "pygments_lexer": "ipython3",
   "version": "3.9.12"
  },
  "toc-autonumbering": false,
  "toc-showcode": true,
  "toc-showmarkdowntxt": false,
  "toc-showtags": true
 },
 "nbformat": 4,
 "nbformat_minor": 5
}
